{
  "nbformat": 4,
  "nbformat_minor": 0,
  "metadata": {
    "colab": {
      "name": "【衛星画像解析】地価上昇率全国一位の倶知安町の開発状況を調べてみた.ipynb",
      "provenance": [],
      "authorship_tag": "ABX9TyOXdJss3bp084m8i6eTm/JC",
      "include_colab_link": true
    },
    "kernelspec": {
      "name": "python3",
      "display_name": "Python 3"
    },
    "language_info": {
      "name": "python"
    },
    "accelerator": "GPU"
  },
  "cells": [
    {
      "cell_type": "markdown",
      "metadata": {
        "id": "view-in-github",
        "colab_type": "text"
      },
      "source": [
        "<a href=\"https://colab.research.google.com/github/syurenuko/LandPrice_Kutchan/blob/main/%E3%80%90%E8%A1%9B%E6%98%9F%E7%94%BB%E5%83%8F%E8%A7%A3%E6%9E%90%E3%80%91%E5%9C%B0%E4%BE%A1%E4%B8%8A%E6%98%87%E7%8E%87%E5%85%A8%E5%9B%BD%E4%B8%80%E4%BD%8D%E3%81%AE%E5%80%B6%E7%9F%A5%E5%AE%89%E7%94%BA%E3%81%AE%E9%96%8B%E7%99%BA%E7%8A%B6%E6%B3%81%E3%82%92%E8%AA%BF%E3%81%B9%E3%81%A6%E3%81%BF%E3%81%9F.ipynb\" target=\"_parent\"><img src=\"https://colab.research.google.com/assets/colab-badge.svg\" alt=\"Open In Colab\"/></a>"
      ]
    },
    {
      "cell_type": "code",
      "metadata": {
        "id": "vFznL2K00su_",
        "colab": {
          "base_uri": "https://localhost:8080/"
        },
        "outputId": "0b0d3d19-796b-4b67-dc98-d6e9e2a01465"
      },
      "source": [
        "# google driveをマウント\n",
        "from google.colab import drive \n",
        "drive = drive.mount('/content/drive')"
      ],
      "execution_count": 1,
      "outputs": [
        {
          "output_type": "stream",
          "text": [
            "Mounted at /content/drive\n"
          ],
          "name": "stdout"
        }
      ]
    },
    {
      "cell_type": "code",
      "metadata": {
        "id": "qGQwv4DRwUHW",
        "colab": {
          "base_uri": "https://localhost:8080/"
        },
        "outputId": "c1574a2f-b078-464f-eab8-917dce6de06d"
      },
      "source": [
        "!pip install collection\n",
        "!pip install rasterio\n",
        "!apt install gdal-bin python-gdal python3-gdal \n",
        "!apt install python3-rtree \n",
        "!pip install git+git://github.com/geopandas/geopandas.git\n",
        "!pip install descartes \n",
        "!pip install shapely\n",
        "!pip install six\n",
        "!pip install pyproj\n",
        "!pip install pandas\n",
        "!pip install geopandas\n",
        "\n",
        "print(\"done\")"
      ],
      "execution_count": 2,
      "outputs": [
        {
          "output_type": "stream",
          "text": [
            "Collecting collection\n",
            "  Downloading https://files.pythonhosted.org/packages/81/a7/12577601fd60036732cd5b078ed3aa9a2f888169ea70d84997b3607e63b4/collection-0.1.6.tar.gz\n",
            "Building wheels for collected packages: collection\n",
            "  Building wheel for collection (setup.py) ... \u001b[?25l\u001b[?25hdone\n",
            "  Created wheel for collection: filename=collection-0.1.6-cp37-none-any.whl size=5117 sha256=14ba28bc619930163e54bb4a240037c5ecdcf771ed5258e7eac8a72533ff0602\n",
            "  Stored in directory: /root/.cache/pip/wheels/9e/f2/2b/a611b0dc83b770763e7962500ef158c09dc8161d3fce6e73de\n",
            "Successfully built collection\n",
            "Installing collected packages: collection\n",
            "Successfully installed collection-0.1.6\n",
            "Collecting rasterio\n",
            "\u001b[?25l  Downloading https://files.pythonhosted.org/packages/04/37/40712857e6c82cac52051d9faee43bc468e5806640ddbf88e10d591dbdf1/rasterio-1.2.1-cp37-cp37m-manylinux1_x86_64.whl (19.1MB)\n",
            "\u001b[K     |████████████████████████████████| 19.1MB 1.4MB/s \n",
            "\u001b[?25hRequirement already satisfied: attrs in /usr/local/lib/python3.7/dist-packages (from rasterio) (20.3.0)\n",
            "Requirement already satisfied: click<8,>=4.0 in /usr/local/lib/python3.7/dist-packages (from rasterio) (7.1.2)\n",
            "Requirement already satisfied: numpy in /usr/local/lib/python3.7/dist-packages (from rasterio) (1.19.5)\n",
            "Requirement already satisfied: certifi in /usr/local/lib/python3.7/dist-packages (from rasterio) (2020.12.5)\n",
            "Collecting affine\n",
            "  Downloading https://files.pythonhosted.org/packages/ac/a6/1a39a1ede71210e3ddaf623982b06ecfc5c5c03741ae659073159184cd3e/affine-2.3.0-py2.py3-none-any.whl\n",
            "Collecting snuggs>=1.4.1\n",
            "  Downloading https://files.pythonhosted.org/packages/cc/0e/d27d6e806d6c0d1a2cfdc5d1f088e42339a0a54a09c3343f7f81ec8947ea/snuggs-1.4.7-py3-none-any.whl\n",
            "Collecting click-plugins\n",
            "  Downloading https://files.pythonhosted.org/packages/e9/da/824b92d9942f4e472702488857914bdd50f73021efea15b4cad9aca8ecef/click_plugins-1.1.1-py2.py3-none-any.whl\n",
            "Collecting cligj>=0.5\n",
            "  Downloading https://files.pythonhosted.org/packages/42/1e/947eadf10d6804bf276eb8a038bd5307996dceaaa41cfd21b7a15ec62f5d/cligj-0.7.1-py3-none-any.whl\n",
            "Requirement already satisfied: pyparsing>=2.1.6 in /usr/local/lib/python3.7/dist-packages (from snuggs>=1.4.1->rasterio) (2.4.7)\n",
            "Installing collected packages: affine, snuggs, click-plugins, cligj, rasterio\n",
            "Successfully installed affine-2.3.0 click-plugins-1.1.1 cligj-0.7.1 rasterio-1.2.1 snuggs-1.4.7\n",
            "Reading package lists... Done\n",
            "Building dependency tree       \n",
            "Reading state information... Done\n",
            "gdal-bin is already the newest version (2.2.3+dfsg-2).\n",
            "python-gdal is already the newest version (2.2.3+dfsg-2).\n",
            "The following additional packages will be installed:\n",
            "  python3-numpy\n",
            "Suggested packages:\n",
            "  python-numpy-doc python3-nose python3-numpy-dbg\n",
            "The following NEW packages will be installed:\n",
            "  python3-gdal python3-numpy\n",
            "0 upgraded, 2 newly installed, 0 to remove and 30 not upgraded.\n",
            "Need to get 2,288 kB of archives.\n",
            "After this operation, 13.2 MB of additional disk space will be used.\n",
            "Get:1 http://archive.ubuntu.com/ubuntu bionic/main amd64 python3-numpy amd64 1:1.13.3-2ubuntu1 [1,943 kB]\n",
            "Get:2 http://archive.ubuntu.com/ubuntu bionic/universe amd64 python3-gdal amd64 2.2.3+dfsg-2 [346 kB]\n",
            "Fetched 2,288 kB in 1s (1,527 kB/s)\n",
            "Selecting previously unselected package python3-numpy.\n",
            "(Reading database ... 160980 files and directories currently installed.)\n",
            "Preparing to unpack .../python3-numpy_1%3a1.13.3-2ubuntu1_amd64.deb ...\n",
            "Unpacking python3-numpy (1:1.13.3-2ubuntu1) ...\n",
            "Selecting previously unselected package python3-gdal.\n",
            "Preparing to unpack .../python3-gdal_2.2.3+dfsg-2_amd64.deb ...\n",
            "Unpacking python3-gdal (2.2.3+dfsg-2) ...\n",
            "Setting up python3-numpy (1:1.13.3-2ubuntu1) ...\n",
            "Setting up python3-gdal (2.2.3+dfsg-2) ...\n",
            "Processing triggers for man-db (2.8.3-2ubuntu0.1) ...\n",
            "Reading package lists... Done\n",
            "Building dependency tree       \n",
            "Reading state information... Done\n",
            "The following additional packages will be installed:\n",
            "  libspatialindex-c4v5 libspatialindex-dev libspatialindex4v5\n",
            "  python3-pkg-resources\n",
            "Suggested packages:\n",
            "  python3-setuptools\n",
            "The following NEW packages will be installed:\n",
            "  libspatialindex-c4v5 libspatialindex-dev libspatialindex4v5\n",
            "  python3-pkg-resources python3-rtree\n",
            "0 upgraded, 5 newly installed, 0 to remove and 30 not upgraded.\n",
            "Need to get 671 kB of archives.\n",
            "After this operation, 3,948 kB of additional disk space will be used.\n",
            "Get:1 http://archive.ubuntu.com/ubuntu bionic/universe amd64 libspatialindex4v5 amd64 1.8.5-5 [219 kB]\n",
            "Get:2 http://archive.ubuntu.com/ubuntu bionic/universe amd64 libspatialindex-c4v5 amd64 1.8.5-5 [51.7 kB]\n",
            "Get:3 http://archive.ubuntu.com/ubuntu bionic/main amd64 python3-pkg-resources all 39.0.1-2 [98.8 kB]\n",
            "Get:4 http://archive.ubuntu.com/ubuntu bionic/universe amd64 libspatialindex-dev amd64 1.8.5-5 [285 kB]\n",
            "Get:5 http://archive.ubuntu.com/ubuntu bionic/universe amd64 python3-rtree all 0.8.3+ds-1 [16.9 kB]\n",
            "Fetched 671 kB in 1s (477 kB/s)\n",
            "Selecting previously unselected package libspatialindex4v5:amd64.\n",
            "(Reading database ... 161390 files and directories currently installed.)\n",
            "Preparing to unpack .../libspatialindex4v5_1.8.5-5_amd64.deb ...\n",
            "Unpacking libspatialindex4v5:amd64 (1.8.5-5) ...\n",
            "Selecting previously unselected package libspatialindex-c4v5:amd64.\n",
            "Preparing to unpack .../libspatialindex-c4v5_1.8.5-5_amd64.deb ...\n",
            "Unpacking libspatialindex-c4v5:amd64 (1.8.5-5) ...\n",
            "Selecting previously unselected package python3-pkg-resources.\n",
            "Preparing to unpack .../python3-pkg-resources_39.0.1-2_all.deb ...\n",
            "Unpacking python3-pkg-resources (39.0.1-2) ...\n",
            "Selecting previously unselected package libspatialindex-dev:amd64.\n",
            "Preparing to unpack .../libspatialindex-dev_1.8.5-5_amd64.deb ...\n",
            "Unpacking libspatialindex-dev:amd64 (1.8.5-5) ...\n",
            "Selecting previously unselected package python3-rtree.\n",
            "Preparing to unpack .../python3-rtree_0.8.3+ds-1_all.deb ...\n",
            "Unpacking python3-rtree (0.8.3+ds-1) ...\n",
            "Setting up libspatialindex4v5:amd64 (1.8.5-5) ...\n",
            "Setting up python3-pkg-resources (39.0.1-2) ...\n",
            "Setting up libspatialindex-c4v5:amd64 (1.8.5-5) ...\n",
            "Setting up libspatialindex-dev:amd64 (1.8.5-5) ...\n",
            "Setting up python3-rtree (0.8.3+ds-1) ...\n",
            "Processing triggers for libc-bin (2.27-3ubuntu1.2) ...\n",
            "/sbin/ldconfig.real: /usr/local/lib/python3.7/dist-packages/ideep4py/lib/libmkldnn.so.0 is not a symbolic link\n",
            "\n",
            "Collecting git+git://github.com/geopandas/geopandas.git\n",
            "  Cloning git://github.com/geopandas/geopandas.git to /tmp/pip-req-build-icafs_1g\n",
            "  Running command git clone -q git://github.com/geopandas/geopandas.git /tmp/pip-req-build-icafs_1g\n",
            "Requirement already satisfied: pandas>=0.24.0 in /usr/local/lib/python3.7/dist-packages (from geopandas==0.9.0+7.gf5c54ed) (1.1.5)\n",
            "Requirement already satisfied: shapely>=1.6 in /usr/local/lib/python3.7/dist-packages (from geopandas==0.9.0+7.gf5c54ed) (1.7.1)\n",
            "Collecting fiona>=1.8\n",
            "\u001b[?25l  Downloading https://files.pythonhosted.org/packages/47/c2/67d1d0acbaaee3b03e5e22e3b96c33219cb5dd392531c9ff9cee7c2eb3e4/Fiona-1.8.18-cp37-cp37m-manylinux1_x86_64.whl (14.8MB)\n",
            "\u001b[K     |████████████████████████████████| 14.8MB 210kB/s \n",
            "\u001b[?25hCollecting pyproj>=2.2.0\n",
            "\u001b[?25l  Downloading https://files.pythonhosted.org/packages/b1/72/d52e9ca81caef056062d71991b0e9b1d16af042245627c5d0e4916a36c4f/pyproj-3.0.1-cp37-cp37m-manylinux2010_x86_64.whl (6.5MB)\n",
            "\u001b[K     |████████████████████████████████| 6.5MB 53.3MB/s \n",
            "\u001b[?25hRequirement already satisfied: python-dateutil>=2.7.3 in /usr/local/lib/python3.7/dist-packages (from pandas>=0.24.0->geopandas==0.9.0+7.gf5c54ed) (2.8.1)\n",
            "Requirement already satisfied: numpy>=1.15.4 in /usr/local/lib/python3.7/dist-packages (from pandas>=0.24.0->geopandas==0.9.0+7.gf5c54ed) (1.19.5)\n",
            "Requirement already satisfied: pytz>=2017.2 in /usr/local/lib/python3.7/dist-packages (from pandas>=0.24.0->geopandas==0.9.0+7.gf5c54ed) (2018.9)\n",
            "Requirement already satisfied: click-plugins>=1.0 in /usr/local/lib/python3.7/dist-packages (from fiona>=1.8->geopandas==0.9.0+7.gf5c54ed) (1.1.1)\n",
            "Collecting munch\n",
            "  Downloading https://files.pythonhosted.org/packages/cc/ab/85d8da5c9a45e072301beb37ad7f833cd344e04c817d97e0cc75681d248f/munch-2.5.0-py2.py3-none-any.whl\n",
            "Requirement already satisfied: six>=1.7 in /usr/local/lib/python3.7/dist-packages (from fiona>=1.8->geopandas==0.9.0+7.gf5c54ed) (1.15.0)\n",
            "Requirement already satisfied: cligj>=0.5 in /usr/local/lib/python3.7/dist-packages (from fiona>=1.8->geopandas==0.9.0+7.gf5c54ed) (0.7.1)\n",
            "Requirement already satisfied: click<8,>=4.0 in /usr/local/lib/python3.7/dist-packages (from fiona>=1.8->geopandas==0.9.0+7.gf5c54ed) (7.1.2)\n",
            "Requirement already satisfied: attrs>=17 in /usr/local/lib/python3.7/dist-packages (from fiona>=1.8->geopandas==0.9.0+7.gf5c54ed) (20.3.0)\n",
            "Requirement already satisfied: certifi in /usr/local/lib/python3.7/dist-packages (from fiona>=1.8->geopandas==0.9.0+7.gf5c54ed) (2020.12.5)\n",
            "Building wheels for collected packages: geopandas\n",
            "  Building wheel for geopandas (setup.py) ... \u001b[?25l\u001b[?25hdone\n",
            "  Created wheel for geopandas: filename=geopandas-0.9.0+7.gf5c54ed-py2.py3-none-any.whl size=995043 sha256=6ad3f34cacec483dd72396ee28194eabe0016a5f685875c296e52878f0038afe\n",
            "  Stored in directory: /tmp/pip-ephem-wheel-cache-pypchfml/wheels/91/24/71/376c9c67192694168352afcccc2d264248f7e2cc6192997186\n",
            "Successfully built geopandas\n",
            "Installing collected packages: munch, fiona, pyproj, geopandas\n",
            "Successfully installed fiona-1.8.18 geopandas-0.9.0+7.gf5c54ed munch-2.5.0 pyproj-3.0.1\n",
            "Requirement already satisfied: descartes in /usr/local/lib/python3.7/dist-packages (1.1.0)\n",
            "Requirement already satisfied: matplotlib in /usr/local/lib/python3.7/dist-packages (from descartes) (3.2.2)\n",
            "Requirement already satisfied: numpy>=1.11 in /usr/local/lib/python3.7/dist-packages (from matplotlib->descartes) (1.19.5)\n",
            "Requirement already satisfied: python-dateutil>=2.1 in /usr/local/lib/python3.7/dist-packages (from matplotlib->descartes) (2.8.1)\n",
            "Requirement already satisfied: pyparsing!=2.0.4,!=2.1.2,!=2.1.6,>=2.0.1 in /usr/local/lib/python3.7/dist-packages (from matplotlib->descartes) (2.4.7)\n",
            "Requirement already satisfied: cycler>=0.10 in /usr/local/lib/python3.7/dist-packages (from matplotlib->descartes) (0.10.0)\n",
            "Requirement already satisfied: kiwisolver>=1.0.1 in /usr/local/lib/python3.7/dist-packages (from matplotlib->descartes) (1.3.1)\n",
            "Requirement already satisfied: six>=1.5 in /usr/local/lib/python3.7/dist-packages (from python-dateutil>=2.1->matplotlib->descartes) (1.15.0)\n",
            "Requirement already satisfied: shapely in /usr/local/lib/python3.7/dist-packages (1.7.1)\n",
            "Requirement already satisfied: six in /usr/local/lib/python3.7/dist-packages (1.15.0)\n",
            "Requirement already satisfied: pyproj in /usr/local/lib/python3.7/dist-packages (3.0.1)\n",
            "Requirement already satisfied: certifi in /usr/local/lib/python3.7/dist-packages (from pyproj) (2020.12.5)\n",
            "Requirement already satisfied: pandas in /usr/local/lib/python3.7/dist-packages (1.1.5)\n",
            "Requirement already satisfied: numpy>=1.15.4 in /usr/local/lib/python3.7/dist-packages (from pandas) (1.19.5)\n",
            "Requirement already satisfied: python-dateutil>=2.7.3 in /usr/local/lib/python3.7/dist-packages (from pandas) (2.8.1)\n",
            "Requirement already satisfied: pytz>=2017.2 in /usr/local/lib/python3.7/dist-packages (from pandas) (2018.9)\n",
            "Requirement already satisfied: six>=1.5 in /usr/local/lib/python3.7/dist-packages (from python-dateutil>=2.7.3->pandas) (1.15.0)\n",
            "Requirement already satisfied: geopandas in /usr/local/lib/python3.7/dist-packages (0.9.0+7.gf5c54ed)\n",
            "Requirement already satisfied: pyproj>=2.2.0 in /usr/local/lib/python3.7/dist-packages (from geopandas) (3.0.1)\n",
            "Requirement already satisfied: pandas>=0.24.0 in /usr/local/lib/python3.7/dist-packages (from geopandas) (1.1.5)\n",
            "Requirement already satisfied: fiona>=1.8 in /usr/local/lib/python3.7/dist-packages (from geopandas) (1.8.18)\n",
            "Requirement already satisfied: shapely>=1.6 in /usr/local/lib/python3.7/dist-packages (from geopandas) (1.7.1)\n",
            "Requirement already satisfied: certifi in /usr/local/lib/python3.7/dist-packages (from pyproj>=2.2.0->geopandas) (2020.12.5)\n",
            "Requirement already satisfied: pytz>=2017.2 in /usr/local/lib/python3.7/dist-packages (from pandas>=0.24.0->geopandas) (2018.9)\n",
            "Requirement already satisfied: python-dateutil>=2.7.3 in /usr/local/lib/python3.7/dist-packages (from pandas>=0.24.0->geopandas) (2.8.1)\n",
            "Requirement already satisfied: numpy>=1.15.4 in /usr/local/lib/python3.7/dist-packages (from pandas>=0.24.0->geopandas) (1.19.5)\n",
            "Requirement already satisfied: cligj>=0.5 in /usr/local/lib/python3.7/dist-packages (from fiona>=1.8->geopandas) (0.7.1)\n",
            "Requirement already satisfied: munch in /usr/local/lib/python3.7/dist-packages (from fiona>=1.8->geopandas) (2.5.0)\n",
            "Requirement already satisfied: click<8,>=4.0 in /usr/local/lib/python3.7/dist-packages (from fiona>=1.8->geopandas) (7.1.2)\n",
            "Requirement already satisfied: six>=1.7 in /usr/local/lib/python3.7/dist-packages (from fiona>=1.8->geopandas) (1.15.0)\n",
            "Requirement already satisfied: attrs>=17 in /usr/local/lib/python3.7/dist-packages (from fiona>=1.8->geopandas) (20.3.0)\n",
            "Requirement already satisfied: click-plugins>=1.0 in /usr/local/lib/python3.7/dist-packages (from fiona>=1.8->geopandas) (1.1.1)\n",
            "done\n"
          ],
          "name": "stdout"
        }
      ]
    },
    {
      "cell_type": "code",
      "metadata": {
        "colab": {
          "base_uri": "https://localhost:8080/"
        },
        "id": "jvU-VLziwpJs",
        "outputId": "dc386fe3-4589-4e92-ab54-18d34db623fc"
      },
      "source": [
        "#必要ライブラリのインポート\n",
        "import os\n",
        "import numpy as np\n",
        "import geopandas as gpd\n",
        "import pandas as pd\n",
        "import matplotlib.pyplot as plt\n",
        "import rasterio as rio\n",
        "import rasterio.mask\n",
        "import fiona\n",
        "import folium\n",
        "import zipfile\n",
        "import glob\n",
        "\n",
        "from mpl_toolkits.axes_grid1 import make_axes_locatable\n",
        "from shapely.geometry import MultiPolygon, Polygon\n",
        "from rasterio import plot\n",
        "from rasterio.plot import show\n",
        "from rasterio.plot import plotting_extent\n",
        "from rasterio.mask import mask\n",
        "from PIL import Image\n",
        "from osgeo import gdal\n",
        "\n",
        "print(\"done\")"
      ],
      "execution_count": 3,
      "outputs": [
        {
          "output_type": "stream",
          "text": [
            "done\n"
          ],
          "name": "stdout"
        }
      ]
    },
    {
      "cell_type": "code",
      "metadata": {
        "id": "qSIBaWgExnnZ",
        "colab": {
          "base_uri": "https://localhost:8080/"
        },
        "outputId": "23b279db-d35c-4bda-df99-fd161574f5e1"
      },
      "source": [
        "#フォルダs2を読み込み\n",
        "a = glob.glob('/content/drive/MyDrive/s2/*.zip')\n",
        "\n",
        "ziplis = []\n",
        "\n",
        "for f in a:\n",
        "  print(f[26:86])\n",
        "  ziplis.append(f[26:86])\n",
        "\n",
        "for file_title in ziplis:\n",
        "  print(\"start unzip:\"+ file_title)\n",
        "  file_name = file_title +\".zip\"\n",
        "  file_dir = \"/content/drive/MyDrive/s2/\"\n",
        "  file_pass = os.path.join(file_dir + file_name)\n",
        "  print(file_pass)\n",
        "  with zipfile.ZipFile(file_pass) as zf:\n",
        "    zf.extractall()\n",
        "  print(\"done\")"
      ],
      "execution_count": 4,
      "outputs": [
        {
          "output_type": "stream",
          "text": [
            "S2A_MSIL2A_20200621T012701_N0214_R074_T54TVN_20200621T040143\n",
            "S2A_MSIL2A_20190710T013701_N0213_R117_T54TVN_20190710T042016\n",
            "start unzip:S2A_MSIL2A_20200621T012701_N0214_R074_T54TVN_20200621T040143\n",
            "/content/drive/MyDrive/s2/S2A_MSIL2A_20200621T012701_N0214_R074_T54TVN_20200621T040143.zip\n",
            "done\n",
            "start unzip:S2A_MSIL2A_20190710T013701_N0213_R117_T54TVN_20190710T042016\n",
            "/content/drive/MyDrive/s2/S2A_MSIL2A_20190710T013701_N0213_R117_T54TVN_20190710T042016.zip\n",
            "done\n"
          ],
          "name": "stdout"
        }
      ]
    },
    {
      "cell_type": "code",
      "metadata": {
        "id": "S-bwQBcNynBr"
      },
      "source": [
        "#作業用ディレクトリ（フォルダ）の作成\n",
        "\n",
        "os.mkdir(\"work\")\n",
        "\n",
        "path = '/content/'\n",
        "work_path = '/content/work'\n",
        "\n",
        "RGB_dir = '/content/work/RGB_TIF'\n",
        "os.mkdir(RGB_dir)\n",
        "\n",
        "NDVI_dir = '/content/work/NDVI'\n",
        "os.mkdir(NDVI_dir)\n",
        "\n",
        "NDVI_mask_dir = '/content/work/NDVI_mask'\n",
        "os.mkdir(NDVI_mask_dir)"
      ],
      "execution_count": 6,
      "outputs": []
    },
    {
      "cell_type": "code",
      "metadata": {
        "id": "HRpbB3mLy7Ij"
      },
      "source": [
        "#ダウンロードしたデータを解凍して、ディレクトリを指定\n",
        "shape_path = \"/content/drive/MyDrive/N03-20200101_01_GML/\"\n",
        "\n",
        "# 北海道のshpの読み込み\n",
        "in_shape = gpd.read_file(os.path.join(shape_path + \"N03-20_01_200101.shp\"),encoding=\"shift-jis\")"
      ],
      "execution_count": 5,
      "outputs": []
    },
    {
      "cell_type": "code",
      "metadata": {
        "id": "uol2DnyX6YXO"
      },
      "source": [
        "# 倶知安町でソート\n",
        "shape_srt = in_shape[in_shape[\"N03_004\"].isin([\"倶知安町\"])]\n",
        "shape_srt = shape_srt.drop(columns=[\"N03_002\",\"N03_003\"])"
      ],
      "execution_count": 7,
      "outputs": []
    },
    {
      "cell_type": "code",
      "metadata": {
        "colab": {
          "base_uri": "https://localhost:8080/",
          "height": 80
        },
        "id": "HmSVXSBS6uod",
        "outputId": "8b94375c-391a-4dc9-e92c-3d9fd16fe1dc"
      },
      "source": [
        "shape_srt"
      ],
      "execution_count": 8,
      "outputs": [
        {
          "output_type": "execute_result",
          "data": {
            "text/html": [
              "<div>\n",
              "<style scoped>\n",
              "    .dataframe tbody tr th:only-of-type {\n",
              "        vertical-align: middle;\n",
              "    }\n",
              "\n",
              "    .dataframe tbody tr th {\n",
              "        vertical-align: top;\n",
              "    }\n",
              "\n",
              "    .dataframe thead th {\n",
              "        text-align: right;\n",
              "    }\n",
              "</style>\n",
              "<table border=\"1\" class=\"dataframe\">\n",
              "  <thead>\n",
              "    <tr style=\"text-align: right;\">\n",
              "      <th></th>\n",
              "      <th>N03_001</th>\n",
              "      <th>N03_004</th>\n",
              "      <th>N03_007</th>\n",
              "      <th>geometry</th>\n",
              "    </tr>\n",
              "  </thead>\n",
              "  <tbody>\n",
              "    <tr>\n",
              "      <th>5164</th>\n",
              "      <td>北海道</td>\n",
              "      <td>倶知安町</td>\n",
              "      <td>01400</td>\n",
              "      <td>POLYGON ((140.71471 42.83333, 140.71471 42.833...</td>\n",
              "    </tr>\n",
              "  </tbody>\n",
              "</table>\n",
              "</div>"
            ],
            "text/plain": [
              "     N03_001 N03_004 N03_007                                           geometry\n",
              "5164     北海道    倶知安町   01400  POLYGON ((140.71471 42.83333, 140.71471 42.833..."
            ]
          },
          "metadata": {
            "tags": []
          },
          "execution_count": 8
        }
      ]
    },
    {
      "cell_type": "code",
      "metadata": {
        "colab": {
          "base_uri": "https://localhost:8080/",
          "height": 470
        },
        "id": "nq2Fli1p6zW_",
        "outputId": "718ee92e-b277-4f9c-92a6-f6987df8a15e"
      },
      "source": [
        "#画像に合わせて投影変換\n",
        "out_file = os.path.join(shape_path + \"re_N03-20_08_200101.shp\")\n",
        "re_shape = shape_srt.to_crs({\"init\": \"epsg:32654\"})\n",
        "\n",
        "#出力\n",
        "re_shape.to_file(driver=\"ESRI Shapefile\",filename=out_file)\n",
        "print(\"done\")\n",
        "\n",
        "#GeoDataFrameを描画\n",
        "f,ax = plt.subplots(1, figsize=(6,6))\n",
        "ax = re_shape.plot(axes=ax)\n",
        "plt.show"
      ],
      "execution_count": 9,
      "outputs": [
        {
          "output_type": "stream",
          "text": [
            "/usr/local/lib/python3.7/dist-packages/pyproj/crs/crs.py:53: FutureWarning: '+init=<authority>:<code>' syntax is deprecated. '<authority>:<code>' is the preferred initialization method. When making the change, be mindful of axis order changes: https://pyproj4.github.io/pyproj/stable/gotchas.html#axis-order-changes-in-proj-6\n",
            "  return _prepare_from_string(\" \".join(pjargs))\n"
          ],
          "name": "stderr"
        },
        {
          "output_type": "stream",
          "text": [
            "done\n"
          ],
          "name": "stdout"
        },
        {
          "output_type": "stream",
          "text": [
            "/usr/local/lib/python3.7/dist-packages/geopandas/plotting.py:637: FutureWarning: 'axes' is deprecated, please use 'ax' instead (for consistency with pandas)\n",
            "  FutureWarning,\n"
          ],
          "name": "stderr"
        },
        {
          "output_type": "execute_result",
          "data": {
            "text/plain": [
              "<function matplotlib.pyplot.show>"
            ]
          },
          "metadata": {
            "tags": []
          },
          "execution_count": 9
        },
        {
          "output_type": "display_data",
          "data": {
            "image/png": "[encoded data removed]",
            "text/plain": [
              "<Figure size 432x432 with 1 Axes>"
            ]
          },
          "metadata": {
            "tags": [],
            "needs_background": "light"
          }
        }
      ]
    },
    {
      "cell_type": "code",
      "metadata": {
        "id": "DpgB9-XAMFIB"
      },
      "source": [
        "S2A_MSIL2A_20200621T012701_N0214_R074_T54TVN_20200621T040143.SAFE/GRANULE/L2A_T54TVN_A026097_20200621T012701/IMG_DATA/R60mB03.jp2"
      ],
      "execution_count": null,
      "outputs": []
    },
    {
      "cell_type": "code",
      "metadata": {
        "id": "Bt8o8hqbNETi"
      },
      "source": [
        "file_title = ziplis[0]\n",
        "\n",
        "path_A = str(file_title) + '.SAFE/GRANULE/'\n",
        "f1 = os.listdir(path_A)\n",
        "path_B = str(file_title) + '.SAFE/GRANULE/' + str(f1[0])\n",
        "f2 = os.listdir(path_B)\n",
        "path_C = str(file_title) + '.SAFE/GRANULE/' + str(f1[0]) + '/IMG_DATA/'\n",
        "f3 = os.listdir(path_C)\n",
        "path_D = str(file_title) + '.SAFE/GRANULE/' + str(f1[0]) + '/IMG_DATA/' + str(f3[0])\n",
        "f4 = os.listdir(path_D)"
      ],
      "execution_count": 58,
      "outputs": []
    },
    {
      "cell_type": "code",
      "metadata": {
        "colab": {
          "base_uri": "https://localhost:8080/",
          "height": 35
        },
        "id": "2URCwC7gXcTA",
        "outputId": "67f4ac95-8748-4590-dcb4-f75f82c0536a"
      },
      "source": [
        "f1[0][19:]"
      ],
      "execution_count": 38,
      "outputs": [
        {
          "output_type": "execute_result",
          "data": {
            "application/vnd.google.colaboratory.intrinsic+json": {
              "type": "string"
            },
            "text/plain": [
              "'20200621T012701'"
            ]
          },
          "metadata": {
            "tags": []
          },
          "execution_count": 38
        }
      ]
    },
    {
      "cell_type": "code",
      "metadata": {
        "id": "lD2uY484aM5F"
      },
      "source": [
        "f4"
      ],
      "execution_count": null,
      "outputs": []
    },
    {
      "cell_type": "code",
      "metadata": {
        "colab": {
          "base_uri": "https://localhost:8080/"
        },
        "id": "ZMbTzwq8NWpZ",
        "outputId": "af91abc3-1180-4059-dfa3-8cee17baa1c9"
      },
      "source": [
        "print(f1)\n",
        "print(f2)\n",
        "print(f3)\n",
        "print(f4)"
      ],
      "execution_count": 59,
      "outputs": [
        {
          "output_type": "stream",
          "text": [
            "['L2A_T54TVN_A026097_20200621T012701']\n",
            "['QI_DATA', 'AUX_DATA', 'IMG_DATA', 'MTD_TL.xml']\n",
            "['R60m', 'R20m', 'R10m']\n",
            "['T54TVN_20200621T012701_B09_60m.jp2', 'T54TVN_20200621T012701_B11_60m.jp2', 'T54TVN_20200621T012701_B12_60m.jp2', 'T54TVN_20200621T012701_B06_60m.jp2', 'T54TVN_20200621T012701_TCI_60m.jp2', 'T54TVN_20200621T012701_AOT_60m.jp2', 'T54TVN_20200621T012701_B01_60m.jp2', 'T54TVN_20200621T012701_B02_60m.jp2', 'T54TVN_20200621T012701_B03_60m.jp2', 'T54TVN_20200621T012701_B8A_60m.jp2', 'T54TVN_20200621T012701_B04_60m.jp2', 'T54TVN_20200621T012701_B05_60m.jp2', 'T54TVN_20200621T012701_WVP_60m.jp2', 'T54TVN_20200621T012701_B07_60m.jp2', 'T54TVN_20200621T012701_SCL_60m.jp2']\n"
          ],
          "name": "stdout"
        }
      ]
    },
    {
      "cell_type": "code",
      "metadata": {
        "id": "PT-gdTEyfCRQ"
      },
      "source": [
        "str(f1[0][19:])"
      ],
      "execution_count": null,
      "outputs": []
    },
    {
      "cell_type": "code",
      "metadata": {
        "colab": {
          "base_uri": "https://localhost:8080/",
          "height": 35
        },
        "id": "bu6JLt3ppduw",
        "outputId": "41ec64bc-e21d-4094-ecf7-d764f97ffdab"
      },
      "source": [
        "str(f3[0][7:15])"
      ],
      "execution_count": 57,
      "outputs": [
        {
          "output_type": "execute_result",
          "data": {
            "application/vnd.google.colaboratory.intrinsic+json": {
              "type": "string"
            },
            "text/plain": [
              "''"
            ]
          },
          "metadata": {
            "tags": []
          },
          "execution_count": 57
        }
      ]
    },
    {
      "cell_type": "code",
      "metadata": {
        "colab": {
          "base_uri": "https://localhost:8080/",
          "height": 35
        },
        "id": "DvepHSSFadoT",
        "outputId": "52826783-533a-4af9-80aa-c05881dc569c"
      },
      "source": [
        "str(file_title)[11:26]"
      ],
      "execution_count": 52,
      "outputs": [
        {
          "output_type": "execute_result",
          "data": {
            "application/vnd.google.colaboratory.intrinsic+json": {
              "type": "string"
            },
            "text/plain": [
              "'20200621T012701'"
            ]
          },
          "metadata": {
            "tags": []
          },
          "execution_count": 52
        }
      ]
    },
    {
      "cell_type": "code",
      "metadata": {
        "id": "bsvDB5-PMDRC"
      },
      "source": [
        "/content/S2A_MSIL2A_20200621T012701_N0214_R074_T54TVN_20200621T040143.SAFE/GRANULE/L2A_T54TVN_A026097_20200621T012701/IMG_DATA/R60m/T54TVN_20200621T012701_B01_60m.jp2"
      ],
      "execution_count": null,
      "outputs": []
    },
    {
      "cell_type": "code",
      "metadata": {
        "colab": {
          "base_uri": "https://localhost:8080/",
          "height": 35
        },
        "id": "Xxa2YaPWW4WX",
        "outputId": "7d574306-2f19-41f9-df38-7bc4476cf31d"
      },
      "source": [
        "str(file_title) + '.SAFE/GRANULE/' + str(f1[0]) +'/IMG_DATA/' + 'R60m/' + 'T54TVN_' + str(f1[0][19:]) + 'B02_60m.jp2'"
      ],
      "execution_count": 40,
      "outputs": [
        {
          "output_type": "execute_result",
          "data": {
            "application/vnd.google.colaboratory.intrinsic+json": {
              "type": "string"
            },
            "text/plain": [
              "'S2A_MSIL2A_20200621T012701_N0214_R074_T54TVN_20200621T040143.SAFE/GRANULE/L2A_T54TVN_A026097_20200621T012701/IMG_DATA/R60m/T54TVN_20200621T012701B02_60m.jp2'"
            ]
          },
          "metadata": {
            "tags": []
          },
          "execution_count": 40
        }
      ]
    },
    {
      "cell_type": "code",
      "metadata": {
        "colab": {
          "base_uri": "https://localhost:8080/"
        },
        "id": "ofoJ0UCW66rJ",
        "outputId": "5b966012-fd90-4045-bb4e-77abc103cdcc"
      },
      "source": [
        "for file_title in ziplis:\n",
        "  print(\"Start make RGB TIF image \" +'<'+ file_title +'>')\n",
        "\n",
        "  path_A = str(file_title) + '.SAFE/GRANULE/'\n",
        "  f1 = os.listdir(path_A)\n",
        "  path_B = str(file_title) + '.SAFE/GRANULE/' + str(f1[0])\n",
        "  f2 = os.listdir(path_B)\n",
        "  path_C = str(file_title) + '.SAFE/GRANULE/' + str(f1[0]) + '/IMG_DATA/'\n",
        "  f3 = os.listdir(path_C)\n",
        "\n",
        "  b2 = rio.open(str(file_title) + '.SAFE/GRANULE/' + str(f1[0]) +'/IMG_DATA/' + 'R60m/' + 'T54TVN_' + str(file_title)[11:26] + '_' + 'B02_60m.jp2')\n",
        "  b3 = rio.open(str(file_title) + '.SAFE/GRANULE/' + str(f1[0]) +'/IMG_DATA/' + 'R60m/' + 'T54TVN_' + str(file_title)[11:26] + '_' +'B03_60m.jp2')\n",
        "  b4 = rio.open(str(file_title) + '.SAFE/GRANULE/' + str(f1[0]) +'/IMG_DATA/' + 'R60m/' + 'T54TVN_' + str(file_title)[11:26] + '_' +'B04_60m.jp2')\n",
        "  \n",
        "  RGB_path = os.path.join(RGB_dir,'sentinel-2_'+str(f3[0][7:15])+'_RGB.tif')\n",
        "  \n",
        "\n",
        "  RGB_colar = rio.open(RGB_path,'w',driver='Gtiff',\n",
        "                       width=b4.width, height=b4.height,\n",
        "                       count=3,\n",
        "                       crs=b4.crs,\n",
        "                       transform=b4.transform,\n",
        "                       dtype=rasterio.uint16\n",
        "                       )\n",
        "  RGB_colar.write(b2.read(1),3) \n",
        "  RGB_colar.write(b3.read(1),2) \n",
        "  RGB_colar.write(b4.read(1),1) \n",
        "  RGB_colar.close()\n",
        "\n",
        "  print(\"---masking---\")\n",
        "\n",
        "  with fiona.open(out_file, \"r\") as mask:\n",
        "    masks = [feature[\"geometry\"] for feature in mask]\n",
        "\n",
        "  with rasterio.open(RGB_path) as src:\n",
        "    out_image, out_transform = rasterio.mask.mask(src, masks, crop=True)\n",
        "    out_meta = src.meta\n",
        "\n",
        "  out_meta.update({\"driver\": \"GTiff\",\n",
        "                 \"height\": out_image.shape[1],\n",
        "                 \"width\": out_image.shape[2],\n",
        "                 \"transform\": out_transform})\n",
        "\n",
        "  with rasterio.open(RGB_path, \"w\", **out_meta) as dest:\n",
        "    dest.write(out_image)\n",
        "  \n",
        "  #画像表示のため8bit形式で書き出し。\n",
        "  scale = '-scale 0 255 0 15'\n",
        "  options_list = ['-ot Byte','-of Gtiff',scale]\n",
        "  options_string = \" \".join(options_list)\n",
        "\n",
        "  gdal.Translate(os.path.join(RGB_dir + \"/\" + 'sentinel-2_'+str(f3[0][7:15])+'.tif'),os.path.join(RGB_dir + \"/\" + 'sentinel-2_'+str(f3[0][7:15])+'_RGB.tif'),options = options_string)\n",
        "\n",
        "  print(\"Done\")"
      ],
      "execution_count": 53,
      "outputs": [
        {
          "output_type": "stream",
          "text": [
            "Start make RGB TIF image <S2A_MSIL2A_20200621T012701_N0214_R074_T54TVN_20200621T040143>\n",
            "---masking---\n",
            "Done\n",
            "Start make RGB TIF image <S2A_MSIL2A_20190710T013701_N0213_R117_T54TVN_20190710T042016>\n",
            "---masking---\n",
            "Done\n"
          ],
          "name": "stdout"
        }
      ]
    },
    {
      "cell_type": "code",
      "metadata": {
        "id": "7CPYWW5p7Rfu",
        "colab": {
          "base_uri": "https://localhost:8080/",
          "height": 287
        },
        "outputId": "278426e7-780d-4e1c-ba07-94bf8cea182e"
      },
      "source": [
        "plt.figure(figsize=(18,18))\n",
        "\n",
        "RGB_2020 = rio.open(RGB_dir+'/sentinel-2_.tif')\n",
        "RGB_2019 = rio.open(RGB_dir+'/sentinel-2__RGB.tif')\n",
        "\n",
        "ax1 = plt.subplot(1,4,1)\n",
        "ax1.set_title(\"RGB_2020\")\n",
        "ax2 = plt.subplot(1,4,2)\n",
        "ax2.set_title(\"RGB_2019\")\n",
        "\n",
        "show(RGB_2020.read([1,2,3]),ax=ax1)\n",
        "show(RGB_2019.read([1,2,3]),ax=ax2)"
      ],
      "execution_count": 56,
      "outputs": [
        {
          "output_type": "stream",
          "text": [
            "Clipping input data to the valid range for imshow with RGB data ([0..1] for floats or [0..255] for integers).\n"
          ],
          "name": "stderr"
        },
        {
          "output_type": "execute_result",
          "data": {
            "text/plain": [
              "<matplotlib.axes._subplots.AxesSubplot at 0x7fa4c6475c50>"
            ]
          },
          "metadata": {
            "tags": []
          },
          "execution_count": 56
        },
        {
          "output_type": "display_data",
          "data": {
            "image/png": "[encoded data removed]",
            "text/plain": [
              "<Figure size 1296x1296 with 2 Axes>"
            ]
          },
          "metadata": {
            "tags": [],
            "needs_background": "light"
          }
        }
      ]
    }
  ]
}