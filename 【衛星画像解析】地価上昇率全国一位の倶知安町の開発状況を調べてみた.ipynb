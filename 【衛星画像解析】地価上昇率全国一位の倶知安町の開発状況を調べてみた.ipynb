{
  "nbformat": 4,
  "nbformat_minor": 0,
  "metadata": {
    "colab": {
      "name": "【衛星画像解析】地価上昇率全国一位の倶知安町の開発状況を調べてみた.ipynb",
      "provenance": [],
      "authorship_tag": "ABX9TyMF9hxEkMVB6oZMBrvsYTYk",
      "include_colab_link": true
    },
    "kernelspec": {
      "name": "python3",
      "display_name": "Python 3"
    },
    "language_info": {
      "name": "python"
    },
    "accelerator": "GPU"
  },
  "cells": [
    {
      "cell_type": "markdown",
      "metadata": {
        "id": "view-in-github",
        "colab_type": "text"
      },
      "source": [
        "<a href=\"https://colab.research.google.com/github/syurenuko/LandPrice_Kutchan/blob/main/%E3%80%90%E8%A1%9B%E6%98%9F%E7%94%BB%E5%83%8F%E8%A7%A3%E6%9E%90%E3%80%91%E5%9C%B0%E4%BE%A1%E4%B8%8A%E6%98%87%E7%8E%87%E5%85%A8%E5%9B%BD%E4%B8%80%E4%BD%8D%E3%81%AE%E5%80%B6%E7%9F%A5%E5%AE%89%E7%94%BA%E3%81%AE%E9%96%8B%E7%99%BA%E7%8A%B6%E6%B3%81%E3%82%92%E8%AA%BF%E3%81%B9%E3%81%A6%E3%81%BF%E3%81%9F.ipynb\" target=\"_parent\"><img src=\"https://colab.research.google.com/assets/colab-badge.svg\" alt=\"Open In Colab\"/></a>"
      ]
    },
    {
      "cell_type": "code",
      "metadata": {
        "id": "vFznL2K00su_",
        "colab": {
          "base_uri": "https://localhost:8080/"
        },
        "outputId": "7b1d4e1c-3b39-49d4-83e0-522618ae37f5"
      },
      "source": [
        "# google driveをマウント\n",
        "# Tellusの開発環境やローカル環境を使用する想定であれば、このセルは削除可です。\n",
        "from google.colab import drive \n",
        "drive = drive.mount('/content/drive')"
      ],
      "execution_count": 1,
      "outputs": [
        {
          "output_type": "stream",
          "text": [
            "Mounted at /content/drive\n"
          ],
          "name": "stdout"
        }
      ]
    },
    {
      "cell_type": "code",
      "metadata": {
        "id": "qGQwv4DRwUHW"
      },
      "source": [
        "!pip install collection\n",
        "!pip install rasterio\n",
        "!apt install gdal-bin python-gdal python3-gdal \n",
        "!apt install python3-rtree \n",
        "!pip install git+git://github.com/geopandas/geopandas.git\n",
        "!pip install descartes \n",
        "!pip install shapely\n",
        "!pip install six\n",
        "!pip install pyproj\n",
        "!pip install pandas\n",
        "!pip install geopandas\n",
        "\n",
        "print(\"done\")"
      ],
      "execution_count": null,
      "outputs": []
    },
    {
      "cell_type": "code",
      "metadata": {
        "colab": {
          "base_uri": "https://localhost:8080/"
        },
        "id": "jvU-VLziwpJs",
        "outputId": "6cd8af82-a403-4e17-8ba7-50485779e238"
      },
      "source": [
        "#必要ライブラリのインポート\n",
        "import os\n",
        "import numpy as np\n",
        "import geopandas as gpd\n",
        "import pandas as pd\n",
        "import matplotlib.pyplot as plt\n",
        "import rasterio as rio\n",
        "import rasterio.mask\n",
        "import fiona\n",
        "import folium\n",
        "import zipfile\n",
        "import glob\n",
        "\n",
        "from mpl_toolkits.axes_grid1 import make_axes_locatable\n",
        "from shapely.geometry import MultiPolygon, Polygon\n",
        "from rasterio import plot\n",
        "from rasterio.plot import show\n",
        "from rasterio.plot import plotting_extent\n",
        "from rasterio.mask import mask\n",
        "from PIL import Image\n",
        "from osgeo import gdal\n",
        "\n",
        "print(\"done\")"
      ],
      "execution_count": 3,
      "outputs": [
        {
          "output_type": "stream",
          "text": [
            "done\n"
          ],
          "name": "stdout"
        }
      ]
    },
    {
      "cell_type": "code",
      "metadata": {
        "id": "qSIBaWgExnnZ",
        "colab": {
          "base_uri": "https://localhost:8080/"
        },
        "outputId": "181d6461-cb0b-4a3d-c9ef-a6e9c1ee6ddb"
      },
      "source": [
        "# Tellusの開発環境やローカル環境を使用する想定であれば、適切なパスに書き換えてください。\n",
        "\n",
        "a = glob.glob('/content/drive/MyDrive/s2/*.zip')\n",
        "\n",
        "ziplis = []\n",
        "\n",
        "for f in a:\n",
        "  print(f[26:86])\n",
        "  ziplis.append(f[26:86])\n",
        "\n",
        "for file_title in ziplis:\n",
        "  print(\"start unzip:\"+ file_title)\n",
        "  file_name = file_title +\".zip\"\n",
        "  file_dir = \"/content/drive/MyDrive/s2/\"\n",
        "  file_pass = os.path.join(file_dir + file_name)\n",
        "  print(file_pass)\n",
        "  with zipfile.ZipFile(file_pass) as zf:\n",
        "    zf.extractall()\n",
        "  print(\"done\")"
      ],
      "execution_count": 6,
      "outputs": [
        {
          "output_type": "stream",
          "text": [
            "S2A_MSIL2A_20200621T012701_N0214_R074_T54TVN_20200621T040143\n",
            "S2A_MSIL2A_20190710T013701_N0213_R117_T54TVN_20190710T042016\n",
            "start unzip:S2A_MSIL2A_20200621T012701_N0214_R074_T54TVN_20200621T040143\n",
            "/content/drive/MyDrive/s2/S2A_MSIL2A_20200621T012701_N0214_R074_T54TVN_20200621T040143.zip\n",
            "done\n",
            "start unzip:S2A_MSIL2A_20190710T013701_N0213_R117_T54TVN_20190710T042016\n",
            "/content/drive/MyDrive/s2/S2A_MSIL2A_20190710T013701_N0213_R117_T54TVN_20190710T042016.zip\n",
            "done\n"
          ],
          "name": "stdout"
        }
      ]
    },
    {
      "cell_type": "code",
      "metadata": {
        "id": "S-bwQBcNynBr"
      },
      "source": [
        "#作業用ディレクトリ（フォルダ）の作成\n",
        "\n",
        "os.mkdir(\"work\")\n",
        "\n",
        "path = '/content/'\n",
        "work_path = '/content/work'\n",
        "\n",
        "RGB_dir = '/content/work/RGB_TIF'\n",
        "os.mkdir(RGB_dir)\n",
        "\n",
        "NDVI_dir = '/content/work/NDVI'\n",
        "os.mkdir(NDVI_dir)\n",
        "\n",
        "NDVI_mask_dir = '/content/work/NDVI_mask'\n",
        "os.mkdir(NDVI_mask_dir)"
      ],
      "execution_count": 7,
      "outputs": []
    },
    {
      "cell_type": "code",
      "metadata": {
        "id": "HRpbB3mLy7Ij"
      },
      "source": [
        "#ダウンロードしたデータを解凍して、ディレクトリを指定\n",
        "shape_path = \"/content/drive/MyDrive/N03-20200101_01_GML/\"\n",
        "\n",
        "# 茨城県のshpの読み込み\n",
        "in_shape = gpd.read_file(os.path.join(shape_path + \"N03-20_01_200101.shp\"),encoding=\"shift-jis\")"
      ],
      "execution_count": 9,
      "outputs": []
    },
    {
      "cell_type": "code",
      "metadata": {
        "id": "uol2DnyX6YXO"
      },
      "source": [
        "# 日立市でソート\n",
        "shape_srt = in_shape[in_shape[\"N03_004\"].isin([\"倶知安町\"])]\n",
        "shape_srt = shape_srt.drop(columns=[\"N03_002\",\"N03_003\"])"
      ],
      "execution_count": 10,
      "outputs": []
    },
    {
      "cell_type": "code",
      "metadata": {
        "colab": {
          "base_uri": "https://localhost:8080/",
          "height": 80
        },
        "id": "HmSVXSBS6uod",
        "outputId": "e043b49a-ddcb-467a-a33a-1d715eca29a6"
      },
      "source": [
        "shape_srt"
      ],
      "execution_count": 11,
      "outputs": [
        {
          "output_type": "execute_result",
          "data": {
            "text/html": [
              "<div>\n",
              "<style scoped>\n",
              "    .dataframe tbody tr th:only-of-type {\n",
              "        vertical-align: middle;\n",
              "    }\n",
              "\n",
              "    .dataframe tbody tr th {\n",
              "        vertical-align: top;\n",
              "    }\n",
              "\n",
              "    .dataframe thead th {\n",
              "        text-align: right;\n",
              "    }\n",
              "</style>\n",
              "<table border=\"1\" class=\"dataframe\">\n",
              "  <thead>\n",
              "    <tr style=\"text-align: right;\">\n",
              "      <th></th>\n",
              "      <th>N03_001</th>\n",
              "      <th>N03_004</th>\n",
              "      <th>N03_007</th>\n",
              "      <th>geometry</th>\n",
              "    </tr>\n",
              "  </thead>\n",
              "  <tbody>\n",
              "    <tr>\n",
              "      <th>5164</th>\n",
              "      <td>北海道</td>\n",
              "      <td>倶知安町</td>\n",
              "      <td>01400</td>\n",
              "      <td>POLYGON ((140.71471 42.83333, 140.71471 42.833...</td>\n",
              "    </tr>\n",
              "  </tbody>\n",
              "</table>\n",
              "</div>"
            ],
            "text/plain": [
              "     N03_001 N03_004 N03_007                                           geometry\n",
              "5164     北海道    倶知安町   01400  POLYGON ((140.71471 42.83333, 140.71471 42.833..."
            ]
          },
          "metadata": {
            "tags": []
          },
          "execution_count": 11
        }
      ]
    },
    {
      "cell_type": "code",
      "metadata": {
        "colab": {
          "base_uri": "https://localhost:8080/",
          "height": 470
        },
        "id": "nq2Fli1p6zW_",
        "outputId": "1bdc6559-53fc-4977-a7da-01fd69051ea8"
      },
      "source": [
        "#画像に合わせて投影変換\n",
        "out_file = os.path.join(shape_path + \"re_N03-20_08_200101.shp\")\n",
        "re_shape = shape_srt.to_crs({\"init\": \"epsg:32654\"})\n",
        "\n",
        "#出力\n",
        "re_shape.to_file(driver=\"ESRI Shapefile\",filename=out_file)\n",
        "print(\"done\")\n",
        "\n",
        "#GeoDataFrameを描画\n",
        "f,ax = plt.subplots(1, figsize=(6,6))\n",
        "ax = re_shape.plot(axes=ax)\n",
        "plt.show"
      ],
      "execution_count": 12,
      "outputs": [
        {
          "output_type": "stream",
          "text": [
            "/usr/local/lib/python3.7/dist-packages/pyproj/crs/crs.py:53: FutureWarning: '+init=<authority>:<code>' syntax is deprecated. '<authority>:<code>' is the preferred initialization method. When making the change, be mindful of axis order changes: https://pyproj4.github.io/pyproj/stable/gotchas.html#axis-order-changes-in-proj-6\n",
            "  return _prepare_from_string(\" \".join(pjargs))\n"
          ],
          "name": "stderr"
        },
        {
          "output_type": "stream",
          "text": [
            "done\n"
          ],
          "name": "stdout"
        },
        {
          "output_type": "stream",
          "text": [
            "/usr/local/lib/python3.7/dist-packages/geopandas/plotting.py:637: FutureWarning: 'axes' is deprecated, please use 'ax' instead (for consistency with pandas)\n",
            "  FutureWarning,\n"
          ],
          "name": "stderr"
        },
        {
          "output_type": "execute_result",
          "data": {
            "text/plain": [
              "<function matplotlib.pyplot.show>"
            ]
          },
          "metadata": {
            "tags": []
          },
          "execution_count": 12
        },
        {
          "output_type": "display_data",
          "data": {
            "image/png": "[encoded data removed]",
            "text/plain": [
              "<Figure size 432x432 with 1 Axes>"
            ]
          },
          "metadata": {
            "tags": [],
            "needs_background": "light"
          }
        }
      ]
    },
    {
      "cell_type": "code",
      "metadata": {
        "colab": {
          "base_uri": "https://localhost:8080/",
          "height": 617
        },
        "id": "ofoJ0UCW66rJ",
        "outputId": "f83402c1-3947-4871-ddeb-b5cf77ec4c4e"
      },
      "source": [
        "for file_title in ziplis:\n",
        "  print(\"Start make RGB TIF image \" +'<'+ file_title +'>')\n",
        "\n",
        "  path_A = str(file_title) + '.SAFE/GRANULE/'\n",
        "  f1 = os.listdir(path_A)\n",
        "  path_B = str(file_title) + '.SAFE/GRANULE/' + str(f1[0])\n",
        "  f2 = os.listdir(path_B)\n",
        "  path_C = str(file_title) + '.SAFE/GRANULE/' + str(f1[0]) + '/IMG_DATA/'\n",
        "  f3 = os.listdir(path_C)\n",
        "\n",
        "  b2 = rio.open(str(file_title) + '.SAFE/GRANULE/' + str(f1[0]) +'/IMG_DATA/' +str(f3[0][0:23] +'B02.jp2'))\n",
        "  b3 = rio.open(str(file_title) + '.SAFE/GRANULE/' + str(f1[0]) +'/IMG_DATA/' +str(f3[0][0:23] +'B03.jp2'))\n",
        "  b4 = rio.open(str(file_title) + '.SAFE/GRANULE/' + str(f1[0]) +'/IMG_DATA/' +str(f3[0][0:23] +'B04.jp2'))\n",
        "  \n",
        "  RGB_path = os.path.join(RGB_dir,'sentinel-2_'+str(f3[0][7:15])+'_RGB.tif')\n",
        "  \n",
        "\n",
        "  RGB_colar = rio.open(RGB_path,'w',driver='Gtiff',\n",
        "                       width=b4.width, height=b4.height,\n",
        "                       count=3,\n",
        "                       crs=b4.crs,\n",
        "                       transform=b4.transform,\n",
        "                       dtype=rasterio.uint16\n",
        "                       )\n",
        "  RGB_colar.write(b2.read(1),3) \n",
        "  RGB_colar.write(b3.read(1),2) \n",
        "  RGB_colar.write(b4.read(1),1) \n",
        "  RGB_colar.close()\n",
        "\n",
        "  print(\"---masking---\")\n",
        "\n",
        "  with fiona.open(out_file, \"r\") as mask:\n",
        "    masks = [feature[\"geometry\"] for feature in mask]\n",
        "\n",
        "  with rasterio.open(RGB_path) as src:\n",
        "    out_image, out_transform = rasterio.mask.mask(src, masks, crop=True)\n",
        "    out_meta = src.meta\n",
        "\n",
        "  out_meta.update({\"driver\": \"GTiff\",\n",
        "                 \"height\": out_image.shape[1],\n",
        "                 \"width\": out_image.shape[2],\n",
        "                 \"transform\": out_transform})\n",
        "\n",
        "  with rasterio.open(RGB_path, \"w\", **out_meta) as dest:\n",
        "    dest.write(out_image)\n",
        "  \n",
        "  #画像表示のため8bit形式で書き出し。\n",
        "  scale = '-scale 0 255 0 15'\n",
        "  options_list = ['-ot Byte','-of Gtiff',scale]\n",
        "  options_string = \" \".join(options_list)\n",
        "\n",
        "  gdal.Translate(os.path.join(RGB_dir + \"/\" + 'sentinel-2_'+str(f3[0][7:15])+'.tif'),os.path.join(RGB_dir + \"/\" + 'sentinel-2_'+str(f3[0][7:15])+'_RGB.tif'),options = options_string)\n",
        "\n",
        "  print(\"Done\")"
      ],
      "execution_count": 13,
      "outputs": [
        {
          "output_type": "stream",
          "text": [
            "Start make RGB TIF image <S2A_MSIL2A_20200621T012701_N0214_R074_T54TVN_20200621T040143>\n"
          ],
          "name": "stdout"
        },
        {
          "output_type": "error",
          "ename": "RasterioIOError",
          "evalue": "ignored",
          "traceback": [
            "\u001b[0;31m---------------------------------------------------------------------------\u001b[0m",
            "\u001b[0;31mCPLE_OpenFailedError\u001b[0m                      Traceback (most recent call last)",
            "\u001b[0;32mrasterio/_base.pyx\u001b[0m in \u001b[0;36mrasterio._base.DatasetBase.__init__\u001b[0;34m()\u001b[0m\n",
            "\u001b[0;32mrasterio/_shim.pyx\u001b[0m in \u001b[0;36mrasterio._shim.open_dataset\u001b[0;34m()\u001b[0m\n",
            "\u001b[0;32mrasterio/_err.pyx\u001b[0m in \u001b[0;36mrasterio._err.exc_wrap_pointer\u001b[0;34m()\u001b[0m\n",
            "\u001b[0;31mCPLE_OpenFailedError\u001b[0m: S2A_MSIL2A_20200621T012701_N0214_R074_T54TVN_20200621T040143.SAFE/GRANULE/L2A_T54TVN_A026097_20200621T012701/IMG_DATA/R60mB02.jp2: No such file or directory",
            "\nDuring handling of the above exception, another exception occurred:\n",
            "\u001b[0;31mRasterioIOError\u001b[0m                           Traceback (most recent call last)",
            "\u001b[0;32m<ipython-input-13-89b4801ecf1a>\u001b[0m in \u001b[0;36m<module>\u001b[0;34m()\u001b[0m\n\u001b[1;32m      9\u001b[0m   \u001b[0mf3\u001b[0m \u001b[0;34m=\u001b[0m \u001b[0mos\u001b[0m\u001b[0;34m.\u001b[0m\u001b[0mlistdir\u001b[0m\u001b[0;34m(\u001b[0m\u001b[0mpath_C\u001b[0m\u001b[0;34m)\u001b[0m\u001b[0;34m\u001b[0m\u001b[0;34m\u001b[0m\u001b[0m\n\u001b[1;32m     10\u001b[0m \u001b[0;34m\u001b[0m\u001b[0m\n\u001b[0;32m---> 11\u001b[0;31m   \u001b[0mb2\u001b[0m \u001b[0;34m=\u001b[0m \u001b[0mrio\u001b[0m\u001b[0;34m.\u001b[0m\u001b[0mopen\u001b[0m\u001b[0;34m(\u001b[0m\u001b[0mstr\u001b[0m\u001b[0;34m(\u001b[0m\u001b[0mfile_title\u001b[0m\u001b[0;34m)\u001b[0m \u001b[0;34m+\u001b[0m \u001b[0;34m'.SAFE/GRANULE/'\u001b[0m \u001b[0;34m+\u001b[0m \u001b[0mstr\u001b[0m\u001b[0;34m(\u001b[0m\u001b[0mf1\u001b[0m\u001b[0;34m[\u001b[0m\u001b[0;36m0\u001b[0m\u001b[0;34m]\u001b[0m\u001b[0;34m)\u001b[0m \u001b[0;34m+\u001b[0m\u001b[0;34m'/IMG_DATA/'\u001b[0m \u001b[0;34m+\u001b[0m\u001b[0mstr\u001b[0m\u001b[0;34m(\u001b[0m\u001b[0mf3\u001b[0m\u001b[0;34m[\u001b[0m\u001b[0;36m0\u001b[0m\u001b[0;34m]\u001b[0m\u001b[0;34m[\u001b[0m\u001b[0;36m0\u001b[0m\u001b[0;34m:\u001b[0m\u001b[0;36m23\u001b[0m\u001b[0;34m]\u001b[0m \u001b[0;34m+\u001b[0m\u001b[0;34m'B02.jp2'\u001b[0m\u001b[0;34m)\u001b[0m\u001b[0;34m)\u001b[0m\u001b[0;34m\u001b[0m\u001b[0;34m\u001b[0m\u001b[0m\n\u001b[0m\u001b[1;32m     12\u001b[0m   \u001b[0mb3\u001b[0m \u001b[0;34m=\u001b[0m \u001b[0mrio\u001b[0m\u001b[0;34m.\u001b[0m\u001b[0mopen\u001b[0m\u001b[0;34m(\u001b[0m\u001b[0mstr\u001b[0m\u001b[0;34m(\u001b[0m\u001b[0mfile_title\u001b[0m\u001b[0;34m)\u001b[0m \u001b[0;34m+\u001b[0m \u001b[0;34m'.SAFE/GRANULE/'\u001b[0m \u001b[0;34m+\u001b[0m \u001b[0mstr\u001b[0m\u001b[0;34m(\u001b[0m\u001b[0mf1\u001b[0m\u001b[0;34m[\u001b[0m\u001b[0;36m0\u001b[0m\u001b[0;34m]\u001b[0m\u001b[0;34m)\u001b[0m \u001b[0;34m+\u001b[0m\u001b[0;34m'/IMG_DATA/'\u001b[0m \u001b[0;34m+\u001b[0m\u001b[0mstr\u001b[0m\u001b[0;34m(\u001b[0m\u001b[0mf3\u001b[0m\u001b[0;34m[\u001b[0m\u001b[0;36m0\u001b[0m\u001b[0;34m]\u001b[0m\u001b[0;34m[\u001b[0m\u001b[0;36m0\u001b[0m\u001b[0;34m:\u001b[0m\u001b[0;36m23\u001b[0m\u001b[0;34m]\u001b[0m \u001b[0;34m+\u001b[0m\u001b[0;34m'B03.jp2'\u001b[0m\u001b[0;34m)\u001b[0m\u001b[0;34m)\u001b[0m\u001b[0;34m\u001b[0m\u001b[0;34m\u001b[0m\u001b[0m\n\u001b[1;32m     13\u001b[0m   \u001b[0mb4\u001b[0m \u001b[0;34m=\u001b[0m \u001b[0mrio\u001b[0m\u001b[0;34m.\u001b[0m\u001b[0mopen\u001b[0m\u001b[0;34m(\u001b[0m\u001b[0mstr\u001b[0m\u001b[0;34m(\u001b[0m\u001b[0mfile_title\u001b[0m\u001b[0;34m)\u001b[0m \u001b[0;34m+\u001b[0m \u001b[0;34m'.SAFE/GRANULE/'\u001b[0m \u001b[0;34m+\u001b[0m \u001b[0mstr\u001b[0m\u001b[0;34m(\u001b[0m\u001b[0mf1\u001b[0m\u001b[0;34m[\u001b[0m\u001b[0;36m0\u001b[0m\u001b[0;34m]\u001b[0m\u001b[0;34m)\u001b[0m \u001b[0;34m+\u001b[0m\u001b[0;34m'/IMG_DATA/'\u001b[0m \u001b[0;34m+\u001b[0m\u001b[0mstr\u001b[0m\u001b[0;34m(\u001b[0m\u001b[0mf3\u001b[0m\u001b[0;34m[\u001b[0m\u001b[0;36m0\u001b[0m\u001b[0;34m]\u001b[0m\u001b[0;34m[\u001b[0m\u001b[0;36m0\u001b[0m\u001b[0;34m:\u001b[0m\u001b[0;36m23\u001b[0m\u001b[0;34m]\u001b[0m \u001b[0;34m+\u001b[0m\u001b[0;34m'B04.jp2'\u001b[0m\u001b[0;34m)\u001b[0m\u001b[0;34m)\u001b[0m\u001b[0;34m\u001b[0m\u001b[0;34m\u001b[0m\u001b[0m\n",
            "\u001b[0;32m/usr/local/lib/python3.7/dist-packages/rasterio/env.py\u001b[0m in \u001b[0;36mwrapper\u001b[0;34m(*args, **kwds)\u001b[0m\n\u001b[1;32m    433\u001b[0m \u001b[0;34m\u001b[0m\u001b[0m\n\u001b[1;32m    434\u001b[0m         \u001b[0;32mwith\u001b[0m \u001b[0menv_ctor\u001b[0m\u001b[0;34m(\u001b[0m\u001b[0msession\u001b[0m\u001b[0;34m=\u001b[0m\u001b[0msession\u001b[0m\u001b[0;34m)\u001b[0m\u001b[0;34m:\u001b[0m\u001b[0;34m\u001b[0m\u001b[0;34m\u001b[0m\u001b[0m\n\u001b[0;32m--> 435\u001b[0;31m             \u001b[0;32mreturn\u001b[0m \u001b[0mf\u001b[0m\u001b[0;34m(\u001b[0m\u001b[0;34m*\u001b[0m\u001b[0margs\u001b[0m\u001b[0;34m,\u001b[0m \u001b[0;34m**\u001b[0m\u001b[0mkwds\u001b[0m\u001b[0;34m)\u001b[0m\u001b[0;34m\u001b[0m\u001b[0;34m\u001b[0m\u001b[0m\n\u001b[0m\u001b[1;32m    436\u001b[0m \u001b[0;34m\u001b[0m\u001b[0m\n\u001b[1;32m    437\u001b[0m     \u001b[0;32mreturn\u001b[0m \u001b[0mwrapper\u001b[0m\u001b[0;34m\u001b[0m\u001b[0;34m\u001b[0m\u001b[0m\n",
            "\u001b[0;32m/usr/local/lib/python3.7/dist-packages/rasterio/__init__.py\u001b[0m in \u001b[0;36mopen\u001b[0;34m(fp, mode, driver, width, height, count, crs, transform, dtype, nodata, sharing, **kwargs)\u001b[0m\n\u001b[1;32m    205\u001b[0m         \u001b[0;31m# None.\u001b[0m\u001b[0;34m\u001b[0m\u001b[0;34m\u001b[0m\u001b[0;34m\u001b[0m\u001b[0m\n\u001b[1;32m    206\u001b[0m         \u001b[0;32mif\u001b[0m \u001b[0mmode\u001b[0m \u001b[0;34m==\u001b[0m \u001b[0;34m'r'\u001b[0m\u001b[0;34m:\u001b[0m\u001b[0;34m\u001b[0m\u001b[0;34m\u001b[0m\u001b[0m\n\u001b[0;32m--> 207\u001b[0;31m             \u001b[0ms\u001b[0m \u001b[0;34m=\u001b[0m \u001b[0mDatasetReader\u001b[0m\u001b[0;34m(\u001b[0m\u001b[0mpath\u001b[0m\u001b[0;34m,\u001b[0m \u001b[0mdriver\u001b[0m\u001b[0;34m=\u001b[0m\u001b[0mdriver\u001b[0m\u001b[0;34m,\u001b[0m \u001b[0msharing\u001b[0m\u001b[0;34m=\u001b[0m\u001b[0msharing\u001b[0m\u001b[0;34m,\u001b[0m \u001b[0;34m**\u001b[0m\u001b[0mkwargs\u001b[0m\u001b[0;34m)\u001b[0m\u001b[0;34m\u001b[0m\u001b[0;34m\u001b[0m\u001b[0m\n\u001b[0m\u001b[1;32m    208\u001b[0m         \u001b[0;32melif\u001b[0m \u001b[0mmode\u001b[0m \u001b[0;34m==\u001b[0m \u001b[0;34m\"r+\"\u001b[0m\u001b[0;34m:\u001b[0m\u001b[0;34m\u001b[0m\u001b[0;34m\u001b[0m\u001b[0m\n\u001b[1;32m    209\u001b[0m             s = get_writer_for_path(path, driver=driver)(\n",
            "\u001b[0;32mrasterio/_base.pyx\u001b[0m in \u001b[0;36mrasterio._base.DatasetBase.__init__\u001b[0;34m()\u001b[0m\n",
            "\u001b[0;31mRasterioIOError\u001b[0m: S2A_MSIL2A_20200621T012701_N0214_R074_T54TVN_20200621T040143.SAFE/GRANULE/L2A_T54TVN_A026097_20200621T012701/IMG_DATA/R60mB02.jp2: No such file or directory"
          ]
        }
      ]
    },
    {
      "cell_type": "code",
      "metadata": {
        "id": "7CPYWW5p7Rfu"
      },
      "source": [
        ""
      ],
      "execution_count": null,
      "outputs": []
    }
  ]
}